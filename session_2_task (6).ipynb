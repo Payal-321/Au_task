{
  "cells": [
    {
      "cell_type": "markdown",
      "metadata": {
        "id": "w6RlOAXV2PWh"
      },
      "source": [
        "### `Problem 1`: Write a program that will give you in hand monthly salary after deduction on CTC - HRA(10%), DA(5%), PF(3%) and taxes deduction as below:\n",
        "\n",
        "> Salary(Lakhs) : Tax(%)\n",
        "\n",
        "*   Below 5 : 0%\n",
        "*   5-10 : 10%\n",
        "*   10-20 : 20%\n",
        "*   aboove 20 : 30%"
      ]
    },
    {
      "cell_type": "code",
      "execution_count": 1,
      "metadata": {
        "id": "7tMHvKYO2etI"
      },
      "outputs": [
        {
          "name": "stdout",
          "output_type": "stream",
          "text": [
            "Tax deduction 20%\n",
            "12300.0\n"
          ]
        }
      ],
      "source": [
        "# Write code here\n",
        "def final_Salary(Salary):\n",
        "  HRA = 0.10*Salary\n",
        "  DA = 0.05*Salary\n",
        "  PF = 0.03*Salary\n",
        "  if Salary<=5000:\n",
        "    print(\"Tax deduction 0%\")\n",
        "  elif Salary<=10000:\n",
        "    print(\"Tax deduction 10%\")\n",
        "  elif Salary<=20000:\n",
        "    print(\"Tax deduction 20%\")\n",
        "  else:\n",
        "    print(\"Salary is not correct\")\n",
        "  final = Salary - (HRA+DA+PF)\n",
        "  return final\n",
        "print(final_Salary(15000) )\n"
      ]
    },
    {
      "cell_type": "markdown",
      "metadata": {
        "id": "tYzCGqwl2hfN"
      },
      "source": [
        "### `Problem 2`: Write a program that take a user input of three angles and will find out whether it can form a triangle or not."
      ]
    },
    {
      "cell_type": "code",
      "execution_count": 2,
      "metadata": {
        "id": "FYEqln-I2kxV"
      },
      "outputs": [
        {
          "ename": "ValueError",
          "evalue": "invalid literal for int() with base 10: ''",
          "output_type": "error",
          "traceback": [
            "\u001b[31m---------------------------------------------------------------------------\u001b[39m",
            "\u001b[31mValueError\u001b[39m                                Traceback (most recent call last)",
            "\u001b[36mCell\u001b[39m\u001b[36m \u001b[39m\u001b[32mIn[2]\u001b[39m\u001b[32m, line 2\u001b[39m\n\u001b[32m      1\u001b[39m \u001b[38;5;66;03m# Write code here\u001b[39;00m\n\u001b[32m----> \u001b[39m\u001b[32m2\u001b[39m a = \u001b[38;5;28;43mint\u001b[39;49m\u001b[43m(\u001b[49m\u001b[38;5;28;43minput\u001b[39;49m\u001b[43m(\u001b[49m\u001b[33;43m\"\u001b[39;49m\u001b[33;43mEnter a angle\u001b[39;49m\u001b[33;43m\"\u001b[39;49m\u001b[43m)\u001b[49m\u001b[43m)\u001b[49m\n\u001b[32m      3\u001b[39m b = \u001b[38;5;28mint\u001b[39m(\u001b[38;5;28minput\u001b[39m(\u001b[33m\"\u001b[39m\u001b[33mEnter a angle\u001b[39m\u001b[33m\"\u001b[39m))\n\u001b[32m      4\u001b[39m c = \u001b[38;5;28mint\u001b[39m(\u001b[38;5;28minput\u001b[39m(\u001b[33m\"\u001b[39m\u001b[33mEnter a angle\u001b[39m\u001b[33m\"\u001b[39m))\n",
            "\u001b[31mValueError\u001b[39m: invalid literal for int() with base 10: ''"
          ]
        }
      ],
      "source": [
        "# Write code here\n",
        "a = int(input(\"Enter a angle\"))\n",
        "b = int(input(\"Enter a angle\"))\n",
        "c = int(input(\"Enter a angle\"))\n",
        "if a+b+c == 180:\n",
        "  print(\"It is a triangle\")\n",
        "else:\n",
        "  print(\"It is not a triangle\")"
      ]
    },
    {
      "cell_type": "markdown",
      "metadata": {
        "id": "5vEpPh8C2pE4"
      },
      "source": [
        "### `Problem 3`: Write a program that will take user input of cost price and selling price and determines whether its a loss or a profit."
      ]
    },
    {
      "cell_type": "code",
      "execution_count": null,
      "metadata": {
        "id": "jDwBXlkO2sfl"
      },
      "outputs": [],
      "source": [
        "# Write code here\n",
        "cost_price = float(input(\"Enter a cost price\"))\n",
        "selling_price = float(input(\"Enter a selling price\"))\n",
        "if cost_price>selling_price:\n",
        "  print(\"It is a loss of\",cost_price-selling_price)\n",
        "elif cost_price<selling_price:\n",
        "  print(\"It is a profit of\",selling_price-cost_price)\n",
        "else:\n",
        "  print(\"It is a loss\")"
      ]
    },
    {
      "cell_type": "markdown",
      "metadata": {
        "id": "J_FG_cJW2ugT"
      },
      "source": [
        "### `Problem 4`: Write a menu-driven program -\n",
        "1. cm to ft\n",
        "2. km to miles\n",
        "3. USD to INR\n",
        "4. exit"
      ]
    },
    {
      "cell_type": "code",
      "execution_count": null,
      "metadata": {
        "id": "yBHhaCGQ2zpD"
      },
      "outputs": [],
      "source": [
        "# Write code here\n",
        "def convert(n):\n",
        "  ft=n/30.48\n",
        "  miles=n/1.609\n",
        "  INR=n/84.40\n",
        "  return ft,miles,INR\n",
        "n=int(input(\"Enter a number:\"))\n",
        "ft, miles, INR = convert(n)\n",
        "print(\"value of {n}cm to {ft}ft:\",ft)\n",
        "print(\"value of {n}km to {miles}miles:\",miles)\n",
        "print(\"value of {n}usd to {INR}INR:\",INR)\n",
        "print(\"Exit\")"
      ]
    },
    {
      "cell_type": "markdown",
      "metadata": {
        "id": "LJJ30_Yw27ZU"
      },
      "source": [
        "### `Problem 5` - Exercise 12: Display Fibonacci series up to 10 terms.\n",
        "\n",
        "*Note: The Fibonacci Sequence is a series of numbers. The next number is found by adding up the two numbers before it. The first two numbers are 0 and 1. For example, 0, 1, 1, 2, 3, 5, 8, 13, 21. The next number in this series above is 13+21 = 34*"
      ]
    },
    {
      "cell_type": "code",
      "execution_count": null,
      "metadata": {
        "id": "ae_1rpe52-5R"
      },
      "outputs": [],
      "source": [
        "# Write code here\n",
        "def fibonacci(n):\n",
        "    a = 0\n",
        "    b = 1\n",
        "    if n < 0:\n",
        "        print(\"Incorrect input\")\n",
        "    elif n == 0:\n",
        "        return 0\n",
        "    elif n == 1:\n",
        "        return b\n",
        "    else:\n",
        "        for i in range(1, n+1):\n",
        "            c = a + b\n",
        "            a = b\n",
        "            b = c\n",
        "        return b\n",
        "print(fibonacci(5))\n"
      ]
    },
    {
      "cell_type": "markdown",
      "metadata": {
        "id": "pk_I_S4m3PT5"
      },
      "source": [
        "### `Problem 6` - Find the factorial of a given number.\n",
        "\n",
        "Write a program to use the loop to find the factorial of a given number.\n",
        "\n",
        "The factorial (symbol: `!`) means to multiply all whole numbers from the chosen number down to 1.\n",
        "\n",
        "For example: calculate the factorial of 5\n",
        "\n",
        "```bash\n",
        "5! = 5 × 4 × 3 × 2 × 1 = 120\n",
        "```\n",
        "\n",
        "Output:\n",
        "\n",
        "```bash\n",
        "120\n",
        "```"
      ]
    },
    {
      "cell_type": "code",
      "execution_count": null,
      "metadata": {
        "id": "lzXxHegx3Rkc"
      },
      "outputs": [],
      "source": [
        "# Write code here\n",
        "n = int(input(\"Enter a number\"))\n",
        "fact = 1\n",
        "for i in range(1, n + 1):\n",
        "    fact = fact*i\n",
        "print(fact)"
      ]
    },
    {
      "cell_type": "markdown",
      "metadata": {
        "id": "-17IOi-g3UpU"
      },
      "source": [
        "### `Problem 7` - Reverse a given integer number.\n",
        "\n",
        "Example:\n",
        "\n",
        "`Input:`\n",
        "\n",
        "```bash\n",
        "76542\n",
        "```\n",
        "\n",
        "`Output:`\n",
        "\n",
        "```bash\n",
        "24567\n",
        "```"
      ]
    },
    {
      "cell_type": "code",
      "execution_count": null,
      "metadata": {
        "id": "wJwLpKCr3aVA"
      },
      "outputs": [],
      "source": [
        "# Write code here\n",
        "N = int(input(\"Enter a number\"))\n",
        "while N > 0:\n",
        "    last_digit = N % 10\n",
        "    print(last_digit, end=\"\")\n",
        "    N = N // 10"
      ]
    },
    {
      "cell_type": "markdown",
      "metadata": {
        "id": "-t8PJQaY3sHf"
      },
      "source": [
        "### `Problem 8`: Take a user input as integer N. Find out the sum from 1 to N. If any number if divisible by 5, then skip that number. And if the sum is greater than 300, don't need to calculate the sum further more. Print the final result. And don't use for loop to solve this problem.\n",
        "\n",
        "**Example 1:**\n",
        "\n",
        "`Input:`\n",
        "\n",
        "```bash\n",
        "30\n",
        "```\n",
        "\n",
        "`Output:`\n",
        "\n",
        "```bash\n",
        "276\n",
        "```"
      ]
    },
    {
      "cell_type": "code",
      "execution_count": null,
      "metadata": {
        "id": "GZB6mGMP3ujT"
      },
      "outputs": [],
      "source": [
        "# Write code here\n",
        "N = int(input(\"Enter a number: \"))\n",
        "i = 1\n",
        "sum = 0\n",
        "while i <= N and sum <= 300:\n",
        "    if i % 5 != 0:\n",
        "        sum = sum + i\n",
        "    i = i+1\n",
        "print(\"Final sum:\", sum)"
      ]
    },
    {
      "cell_type": "markdown",
      "metadata": {
        "id": "Q7ggImeA3xm4"
      },
      "source": [
        "### `Problem 9`: Write a program that keeps on accepting a number from the user until the user enters Zero. Display the sum and average of all the numbers."
      ]
    },
    {
      "cell_type": "code",
      "execution_count": null,
      "metadata": {
        "id": "t_YDSZDe4Kdo"
      },
      "outputs": [],
      "source": [
        "# Write code here\n",
        "a = int(input(\"Enter a number\"))\n",
        "sum=0\n",
        "temp = a\n",
        "for a in range(a,0,-1):\n",
        "  sum =sum+a\n",
        "  Average=sum/temp\n",
        "  print(a)\n",
        "print(sum)\n",
        "print(Average)"
      ]
    },
    {
      "cell_type": "markdown",
      "metadata": {
        "id": "6EhvEMvm4R7s"
      },
      "source": [
        "###`Problem 9`: Write a program which will find all such numbers which are divisible by 7 but are not a multiple of 5, between 2000 and 3200 (both included). The numbers obtained should be printed in a comma-separated sequence on a single line."
      ]
    },
    {
      "cell_type": "code",
      "execution_count": null,
      "metadata": {
        "id": "d6RgP1B34T6c"
      },
      "outputs": [],
      "source": [
        "# Write code here\n",
        "for i in range(2000,3201):\n",
        "  if(i%7==0 and i%5!=0):\n",
        "    print(i,end=\",\")"
      ]
    },
    {
      "cell_type": "markdown",
      "metadata": {
        "id": "tYvmRR-G4Vp4"
      },
      "source": [
        "###`Problem 10`: Write a program, which will find all such numbers between 1000 and 3000 (both included) such that each digit of the number is an even number. The numbers obtained should be printed in a space-separated sequence on a single line.\n",
        "\n"
      ]
    },
    {
      "cell_type": "code",
      "execution_count": null,
      "metadata": {
        "id": "k6Gs1kIf4k19"
      },
      "outputs": [],
      "source": [
        "# Write code here\n",
        "for i in range(1000,3000):\n",
        "  N=i\n",
        "  flag=True\n",
        "  while N>0:\n",
        "    last_digit=N%10\n",
        "    if last_digit%2 != 0:\n",
        "      flag=False\n",
        "      break\n",
        "    N=N//10\n",
        "    if flag:5\n",
        "    print(i,end=\" \")"
      ]
    },
    {
      "cell_type": "markdown",
      "metadata": {
        "id": "GV18IINT4mf5"
      },
      "source": [
        "###`Problem 11`: A robot moves in a plane starting from the original point (0,0). The robot can move toward UP, DOWN, LEFT and RIGHT with a given steps.\n",
        "The trace of robot movement is shown as the following:\n",
        "```\n",
        "UP 5\n",
        "DOWN 3\n",
        "LEFT 3\n",
        "RIGHT 2\n",
        "!\n",
        "```\n",
        "> The numbers after the direction are steps.\n",
        "\n",
        "> `!` means robot stop there.\n",
        "\n",
        "**Please write a program to compute the distance from current position after a sequence of movement and original point.**\n",
        "\n",
        "*If the distance is a float, then just print the nearest integer.*\n",
        "\n",
        "Example:\n",
        "\n",
        "`Input`:\n",
        "```\n",
        "UP 5\n",
        "DOWN 3\n",
        "LEFT 3\n",
        "RIGHT 2\n",
        "!\n",
        "```\n",
        "`Output`:\n",
        "```\n",
        "2\n",
        "```"
      ]
    },
    {
      "cell_type": "code",
      "execution_count": null,
      "metadata": {
        "id": "6UNMC2aR4w5x"
      },
      "outputs": [],
      "source": [
        "# Write code here\n",
        "x=0\n",
        "y=0\n",
        "print(\"up\",1)\n",
        "print(\"down\",2)\n",
        "print(\"left\",3)\n",
        "print(\"right\",4)\n",
        "a1 = int(input(\"Enter a number:\"))\n",
        "a2 = int(input(\"Enter a number:\"))\n",
        "if (a1== 1):\n",
        "    a2=y+a2\n",
        "    print(\"for move up:\",a2)\n",
        "elif (a1 == 2):\n",
        "    a2=y-a2\n",
        "    print(\"for move down:\",a2)\n",
        "elif (a1 == 3):\n",
        "    a2=y+a2\n",
        "    print(\"for move left\",a2)\n",
        "elif (a1 == 4):\n",
        "    a2=y-a2\n",
        "    print(\"for move right\",a2)\n",
        "else:\n",
        "    print(exit)\n",
        "    "
      ]
    },
    {
      "cell_type": "markdown",
      "metadata": {
        "id": "3fsAIAhK5GYY"
      },
      "source": [
        "###`Problem 12`:Write a program to print whether a given number is a prime number or not"
      ]
    },
    {
      "cell_type": "code",
      "execution_count": null,
      "metadata": {
        "id": "j6y91lxy5LZs"
      },
      "outputs": [],
      "source": [
        "# Write code here\n",
        "n = int(input(\"Enter a number\"))\n",
        "if n==1 or n==0:\n",
        "  print(\"not a prime number\")\n",
        "if n>1:\n",
        "  for i in range(2,n):\n",
        "    if(n%i)==0:\n",
        "      print(\"not a prime number\")\n",
        "      break\n",
        "  else:\n",
        "    print(\"a prime number\")"
      ]
    },
    {
      "cell_type": "markdown",
      "metadata": {
        "id": "asAbmbK-5NHv"
      },
      "source": [
        "###`Problem 13`:Print all the Armstrong numbers in a given range.\n",
        "Range will be provided by the user<br>\n",
        "Armstrong number is a number that is equal to the sum of cubes of its digits. For example 0, 1, 153, 370, 371 and 407 are the Armstrong numbers."
      ]
    },
    {
      "cell_type": "code",
      "execution_count": null,
      "metadata": {
        "id": "PZuI67pm5jCT"
      },
      "outputs": [],
      "source": [
        "# Write code here\n",
        "number=int(input(\"Enter a number\"))\n",
        "def armstrong(number):\n",
        "  digits=str(number)\n",
        "  power=len(digits)\n",
        "  total=sum(int(digit)**power for digit in digits)\n",
        "  return total\n",
        "if number==armstrong(number):\n",
        "  print(\"Armstrong number\")\n",
        "else:\n",
        "  print(\"Not armstrong number\")\n"
      ]
    },
    {
      "cell_type": "markdown",
      "metadata": {
        "id": "ClCQZMqT7gK0"
      },
      "source": [
        "###`Problem 14`:Calculate the angle between the hour hand and minute hand.\n",
        "\n",
        "Note: There can be two angles between hands; we need to print a minimum of two. Also, we need to print the floor of the final result angle. For example, if the final angle is 10.61, we need to print 10.\n",
        "\n",
        "Input:<br>\n",
        "H = 9 , M = 0<br>\n",
        "Output:<br>\n",
        "90<br>\n",
        "Explanation:<br>\n",
        "The minimum angle between hour and minute\n",
        "hand when the time is 9 is 90 degress."
      ]
    },
    {
      "cell_type": "code",
      "execution_count": null,
      "metadata": {
        "id": "tNBTCZML7jy_"
      },
      "outputs": [],
      "source": [
        "# Write code here\n",
        "def clock_angle(H,M):\n",
        "  clock_angle= abs((11/2)*M-30*H)\n",
        "  return clock_angle\n",
        "H = int(input(\"Enter value of hour\"))\n",
        "M = int(input(\"Enter value of minute\"))\n",
        "angle=360-clock_angle(H,M)\n",
        "print(angle)\n"
      ]
    },
    {
      "cell_type": "markdown",
      "metadata": {
        "id": "GwacF9Co72Qc"
      },
      "source": [
        "###`Problem 15`:Given two rectangles, find if the given two rectangles overlap or not. A rectangle is denoted by providing the x and y coordinates of two points: the left top corner and the right bottom corner of the rectangle. Two rectangles sharing a side are considered overlapping. (L1 and R1 are the extreme points of the first rectangle and L2 and R2 are the extreme points of the second rectangle).\n",
        "\n",
        "Note: It may be assumed that the rectangles are parallel to the coordinate axis.\n",
        "\n",
        "<img src='https://www.geeksforgeeks.org/wp-content/uploads/rectanglesOverlap.png' width='300' height='200'>"
      ]
    },
    {
      "cell_type": "code",
      "execution_count": null,
      "metadata": {
        "id": "6rrw_lpH78Rs"
      },
      "outputs": [],
      "source": [
        "# Write code here\n",
        "x1=int(input(\" \"))\n",
        "y1=int(input(\" \"))\n",
        "x2=int(input(\" \"))\n",
        "y2=int(input(\" \"))\n",
        "x3=int(input(\" \"))\n",
        "y3=int(input(\" \"))\n",
        "x4=int(input(\" \"))\n",
        "y4=int(input(\" \"))\n",
        "def do_overlap(x1,y1,x2,y2,x3,y3,x4,y4):\n",
        "  if x2<=x3 or x4<=x1:\n",
        "    return False\n",
        "  if y2>=y3 or y4>=y1:\n",
        "    return False\n",
        "  return True\n",
        "if do_overlap(x1, y1, x2, y2, x3, y3, x4, y4):\n",
        "  print(\"do overlap\")\n",
        "else:\n",
        "  print(\"do not overlap\")"
      ]
    }
  ],
  "metadata": {
    "colab": {
      "provenance": []
    },
    "kernelspec": {
      "display_name": "Python 3",
      "name": "python3"
    },
    "language_info": {
      "codemirror_mode": {
        "name": "ipython",
        "version": 3
      },
      "file_extension": ".py",
      "mimetype": "text/x-python",
      "name": "python",
      "nbconvert_exporter": "python",
      "pygments_lexer": "ipython3",
      "version": "3.12.6"
    }
  },
  "nbformat": 4,
  "nbformat_minor": 0
}
